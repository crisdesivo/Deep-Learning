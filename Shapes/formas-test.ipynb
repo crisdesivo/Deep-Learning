{
 "cells": [
  {
   "cell_type": "code",
   "execution_count": 1,
   "metadata": {
    "collapsed": true
   },
   "outputs": [],
   "source": [
    "import tensorflow as tf\n",
    "import pandas as pd\n",
    "import numpy as np\n",
    "\n",
    "\n",
    "image = tf.placeholder(tf.float32, shape=[None, 500, 500, 1], name=\"image\")\n",
    "real_shape = tf.placeholder(tf.float32, shape=[None, 4], name='shape')\n",
    "\n",
    "\n",
    "layer = tf.layers.conv2d(image, 10, 5, strides=2, padding='valid')\n",
    "layer = tf.nn.relu(layer)\n",
    "layer = tf.layers.average_pooling2d(layer, 3, 2)\n",
    "layer = tf.layers.dropout(layer)\n",
    "layer = tf.layers.conv2d(image, 20, 21, strides=10, padding='valid')\n",
    "layer = tf.nn.relu(layer)\n",
    "layer = tf.layers.average_pooling2d(layer, 3, 2)\n",
    "layer = tf.layers.dropout(layer)\n",
    "layer = tf.layers.flatten(layer)\n",
    "layer = tf.layers.dense(layer, 50)\n",
    "layer = tf.nn.relu(layer)\n",
    "logits = tf.layers.dense(layer, 4)\n",
    "output = tf.nn.softmax(logits, name=\"output\")\n",
    "\n",
    "saver = tf.train.Saver()"
   ]
  },
  {
   "cell_type": "code",
   "execution_count": 2,
   "metadata": {},
   "outputs": [
    {
     "name": "stdout",
     "output_type": "stream",
     "text": [
      "INFO:tensorflow:Restoring parameters from /tmp_formas/model.ckpt\n"
     ]
    }
   ],
   "source": [
    "sess=tf.Session()\n",
    "# Restore variables from disk.\n",
    "tf.train.Saver().restore(sess, \"/tmp_formas/model.ckpt\")\n",
    "image0 = tf.get_default_graph().get_tensor_by_name(\"image:0\")\n",
    "output0 = tf.get_default_graph().get_tensor_by_name(\"output:0\")"
   ]
  },
  {
   "cell_type": "code",
   "execution_count": 3,
   "metadata": {},
   "outputs": [],
   "source": [
    "import pygame\n",
    "from pygame.locals import *\n",
    "import numpy as np\n",
    "\n",
    "\n",
    "pygame.init()\n",
    "screen=pygame.display.set_mode((500, 500),pygame.RESIZABLE|DOUBLEBUF)\n",
    "screen_on = True\n",
    "pygame.font.init()\n",
    "myfont = pygame.font.SysFont('Comic Sans MS', 20)\n",
    "textSquare= myfont.render('Cuadrado', False, (0,0,0))\n",
    "textCircle= myfont.render('Circulo', False, (0,0,0))\n",
    "textTriangle= myfont.render('Triangulo', False, (0,0,0))\n",
    "textStar= myfont.render('Estrella', False, (0,0,0))\n",
    "textShapes = [textSquare, textCircle, textTriangle, textStar]\n",
    "\n",
    "def square(screen, x, y, s):\n",
    "    pygame.draw.rect(screen, (0,0,0), (x-s/2, y-s/2, s, s))\n",
    "def circle(screen, x, y, s):\n",
    "    pygame.draw.circle(screen, (0,0,0), (x, y), int(s*0.66))\n",
    "def triangle(screen, x, y, s):\n",
    "    p1= (x, y+s/2)\n",
    "    p2= (x-s/2, y-s/2)\n",
    "    p3= (x + s/2, y-s/2)\n",
    "    pygame.draw.polygon(screen, (0,0,0), (p1, p2, p3))\n",
    "def star(screen, x, y, s):\n",
    "    n=5\n",
    "    q=3\n",
    "    p = [(x+s*np.sin(i*2*np.pi/n), y-s*np.cos(i*2*np.pi/n)) for i in range(n)]\n",
    "    order = [p[(q*i)%n] for i in range(n)]\n",
    "    pygame.draw.polygon(screen, (0,0,0), order)\n",
    "shapes=[square, circle, triangle, star]\n",
    "r1=np.random.randint(0, high=len(shapes))\n",
    "r2=np.random.randint(20, high=200)\n",
    "r3=np.random.randint(r2, high=500-r2)\n",
    "r4=np.random.randint(r2, high=500-r2)\n",
    "prediccion=0\n",
    "\n",
    "\n",
    "while screen_on:\n",
    "    pygame.draw.rect(screen, (255,255,255), (0, 0, 500, 500))\n",
    "    shapes[r1](screen, r3, r4, r2)\n",
    "    prediccion=sess.run(output0, feed_dict={image0: np.array(pygame.surfarray.array2d(screen)).reshape([-1,500,500,1])/16777215})\n",
    "    screen.blit(textShapes[np.argmax(prediccion[0])], (50, 50))\n",
    "    pygame.display.flip()\n",
    "    for event in pygame.event.get():\n",
    "\n",
    "        if event.type == pygame.KEYDOWN:\n",
    "            if event.key == K_ESCAPE:\n",
    "                pygame.quit()\n",
    "                screen_on = False\n",
    "        if event.type == pygame.MOUSEBUTTONDOWN:\n",
    "            r1=np.random.randint(0, high=len(shapes))\n",
    "            r2=np.random.randint(20, high=200)\n",
    "            r3=np.random.randint(r2, high=500-r2)\n",
    "            r4=np.random.randint(r2, high=500-r2)\n",
    "            \n",
    "            "
   ]
  },
  {
   "cell_type": "code",
   "execution_count": 20,
   "metadata": {},
   "outputs": [],
   "source": []
  }
 ],
 "metadata": {
  "kernelspec": {
   "display_name": "Python 2",
   "language": "python",
   "name": "python2"
  },
  "language_info": {
   "codemirror_mode": {
    "name": "ipython",
    "version": 2
   },
   "file_extension": ".py",
   "mimetype": "text/x-python",
   "name": "python",
   "nbconvert_exporter": "python",
   "pygments_lexer": "ipython2",
   "version": "2.7.6"
  }
 },
 "nbformat": 4,
 "nbformat_minor": 0
}
