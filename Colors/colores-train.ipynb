{
 "cells": [
  {
   "cell_type": "code",
   "execution_count": 1,
   "metadata": {
    "collapsed": true
   },
   "outputs": [],
   "source": [
    "import tensorflow as tf\n",
    "import pandas as pd\n",
    "import numpy as np\n",
    "\n",
    "color = tf.placeholder(tf.float32, shape=[None, 3], name=\"color\")\n",
    "my_label = tf.placeholder(tf.float32, shape=[None, 12], name='my_label')\n",
    "\n",
    "w1 = tf.get_variable(\"w1\", [3, 12])\n",
    "b1 = tf.get_variable(\"b1\", [12])\n",
    "layer = tf.matmul(color, w1) + b1\n",
    "layer = tf.nn.relu(layer)\n",
    "w2 = tf.get_variable(\"w2\", [12,12])\n",
    "b2 = tf.get_variable(\"b2\", [12])\n",
    "layer = tf.matmul(layer, w2)+b2\n",
    "logits = layer\n",
    "output = tf.nn.softmax(logits, name='output')\n",
    "\n",
    "\n",
    "saver = tf.train.Saver()\n",
    "cost = tf.nn.softmax_cross_entropy_with_logits_v2(labels=my_label, logits=logits)\n",
    "optimizer = tf.train.AdamOptimizer(name='optimizer').minimize(cost)\n",
    "\n",
    "\n",
    "sess = tf.Session()\n",
    "sess.run(tf.global_variables_initializer())"
   ]
  },
  {
   "cell_type": "code",
   "execution_count": 2,
   "metadata": {},
   "outputs": [],
   "source": [
    "coloresData = pd.read_csv('coloresData.csv', header=None)\n",
    "\n",
    "\n",
    "labels = coloresData.iloc[:,3]\n",
    "labels = pd.get_dummies(labels)\n",
    "\n",
    "\n",
    "colores = coloresData.iloc[:,:3]/255"
   ]
  },
  {
   "cell_type": "code",
   "execution_count": 3,
   "metadata": {},
   "outputs": [],
   "source": [
    "for _ in range(10000):\n",
    "    sess.run(optimizer, feed_dict={color: colores, my_label: labels})\n",
    "    sess.run(optimizer, feed_dict={color: [[0,0,0]], my_label: [[0,0,0,0,0,0,0,0,0,0,0,1]]})"
   ]
  },
  {
   "cell_type": "code",
   "execution_count": 8,
   "metadata": {},
   "outputs": [
    {
     "name": "stdout",
     "output_type": "stream",
     "text": [
      "azul\n"
     ]
    }
   ],
   "source": [
    "nombres = ['rojo', 'verde', 'azul', 'rosa', 'celeste', 'amarillo', 'marron', 'violeta', 'naranja', 'blanco', 'gris', 'negro']\n",
    "print(nombres[np.argmax(sess.run(output, feed_dict={color: [[0,0,1]]})[0])])"
   ]
  },
  {
   "cell_type": "code",
   "execution_count": 13,
   "metadata": {},
   "outputs": [
    {
     "data": {
      "text/plain": [
       "array([ 3.0032253 ,  3.6895041 ,  0.67084724,  0.9333852 ,  2.399887  ,\n       -0.43607903, -0.39973855,  1.5375637 , -0.45604956, -0.107651  ,\n       -0.5410525 , -0.29488242], dtype=float32)"
      ]
     },
     "execution_count": 13,
     "metadata": {},
     "output_type": "execute_result"
    }
   ],
   "source": [
    "b1.eval(sess)"
   ]
  },
  {
   "cell_type": "code",
   "execution_count": 12,
   "metadata": {},
   "outputs": [
    {
     "data": {
      "text/plain": [
       "'/tmp_color/model.ckpt'"
      ]
     },
     "execution_count": 12,
     "metadata": {},
     "output_type": "execute_result"
    }
   ],
   "source": [
    "saver.save(sess, \"/tmp_color/model.ckpt\")"
   ]
  },
  {
   "cell_type": "code",
   "execution_count": null,
   "metadata": {},
   "outputs": [],
   "source": []
  }
 ],
 "metadata": {
  "kernelspec": {
   "display_name": "Python 2",
   "language": "python",
   "name": "python2"
  },
  "language_info": {
   "codemirror_mode": {
    "name": "ipython",
    "version": 2
   },
   "file_extension": ".py",
   "mimetype": "text/x-python",
   "name": "python",
   "nbconvert_exporter": "python",
   "pygments_lexer": "ipython2",
   "version": "2.7.6"
  }
 },
 "nbformat": 4,
 "nbformat_minor": 0
}
