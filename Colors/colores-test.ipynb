{
 "cells": [
  {
   "cell_type": "code",
   "execution_count": 1,
   "metadata": {
    "collapsed": true
   },
   "outputs": [],
   "source": [
    "import tensorflow as tf\n",
    "\n",
    "color = tf.placeholder(tf.float32, shape=[None, 3], name=\"color\")\n",
    "my_label = tf.placeholder(tf.float32, shape=[None, 12], name='my_label')\n",
    "w1 = tf.get_variable(\"w1\", [3, 12])\n",
    "b1 = tf.get_variable(\"b1\", [12])\n",
    "layer = tf.matmul(color, w1) + b1\n",
    "layer = tf.nn.relu(layer)\n",
    "w2 = tf.get_variable(\"w2\", [12,12])\n",
    "b2 = tf.get_variable(\"b2\", [12])\n",
    "layer = tf.matmul(layer, w2)+b2\n",
    "logits = layer\n",
    "output = tf.nn.softmax(logits, name='output')\n",
    "\n",
    "  "
   ]
  },
  {
   "cell_type": "code",
   "execution_count": 2,
   "metadata": {
    "collapsed": false
   },
   "outputs": [
    {
     "name": "stdout",
     "output_type": "stream",
     "text": [
      "INFO:tensorflow:Restoring parameters from /tmp_color/model.ckpt\n"
     ]
    }
   ],
   "source": [
    "import numpy as np\n",
    "\n",
    "sess=tf.Session()\n",
    "tf.train.Saver().restore(sess, \"/tmp_color/model.ckpt\")\n",
    "color0 = tf.get_default_graph().get_tensor_by_name(\"color:0\")\n",
    "output0 = tf.get_default_graph().get_tensor_by_name(\"output:0\")\n"
   ]
  },
  {
   "cell_type": "code",
   "execution_count": 3,
   "metadata": {
    "collapsed": false
   },
   "outputs": [
    {
     "name": "stdout",
     "output_type": "stream",
     "text": [
      "negro\n"
     ]
    }
   ],
   "source": [
    "nombres = ['rojo', 'verde', 'azul', 'rosa', 'celeste', 'amarillo', 'marron', 'violeta', 'naranja', 'blanco', 'gris', 'negro']\n",
    "print(nombres[np.argmax(sess.run(output0, feed_dict={color0: [[0,0,0]]}))])"
   ]
  },
  {
   "cell_type": "code",
   "execution_count": 6,
   "metadata": {},
   "outputs": [],
   "source": [
    "\n",
    "import pygame\n",
    "from pygame.locals import *\n",
    "\n",
    "\n",
    "pygame.init()\n",
    "screen=pygame.display.set_mode((500, 500),pygame.RESIZABLE|DOUBLEBUF)\n",
    "screen_on = True\n",
    "pygame.font.init()\n",
    "myfont = pygame.font.SysFont('Comic Sans MS', 20)\n",
    "textRojo = myfont.render('Rojo', False, (0, 0, 0))\n",
    "textAzul = myfont.render('Azul', False, (0, 0, 0))\n",
    "textVerde = myfont.render('Verde', False, (0, 0, 0))\n",
    "textRosa = myfont.render('Rosa', False, (0, 0, 0))\n",
    "textCeleste = myfont.render('Celeste', False, (0, 0, 0))\n",
    "textAmarillo = myfont.render('Amarillo', False, (0, 0, 0))\n",
    "textMarron = myfont.render('Marron', False, (0, 0, 0))\n",
    "textVioleta = myfont.render('Violeta', False, (255, 255, 255))\n",
    "textNaranja = myfont.render('Naranja', False, (0, 0, 0))\n",
    "textBlanco = myfont.render('Blanco', False, (0, 0, 0))\n",
    "textGris = myfont.render('Gris', False, (0, 0, 0))\n",
    "textNegro = myfont.render('Negro', False, (255, 255, 255))\n",
    "textColores = np.array([textRojo, textVerde, textAzul, textRosa, textCeleste, textAmarillo, textMarron, textVioleta, textNaranja, textBlanco, textGris, textNegro])\n",
    "\n",
    "\n",
    "random_color = [0,0,0]\n",
    "prediction=11\n",
    "while screen_on:\n",
    "    pygame.draw.rect(screen, random_color, (0,0, 500, 500))\n",
    "    screen.blit(textColores[prediction], (250, 250))\n",
    "    pygame.display.flip()\n",
    "\n",
    "    for event in pygame.event.get():\n",
    "\n",
    "        if event.type == pygame.KEYDOWN:\n",
    "            if event.key == K_ESCAPE:\n",
    "                pygame.quit()\n",
    "                screen_on = False\n",
    "        if event.type == pygame.MOUSEBUTTONDOWN:\n",
    "            random_color = [np.random.randint(0, high=255), np.random.randint(0, high=255), np.random.randint(0, high=255)]\n",
    "            prediction = np.argmax(sess.run(output0, feed_dict={color0: [random_color]}))\n"
   ]
  },
  {
   "cell_type": "code",
   "execution_count": 5,
   "metadata": {},
   "outputs": [],
   "source": []
  }
 ],
 "metadata": {
  "kernelspec": {
   "display_name": "Python 2",
   "language": "python",
   "name": "python2"
  },
  "language_info": {
   "codemirror_mode": {
    "name": "ipython",
    "version": 2
   },
   "file_extension": ".py",
   "mimetype": "text/x-python",
   "name": "python",
   "nbconvert_exporter": "python",
   "pygments_lexer": "ipython2",
   "version": "2.7.6"
  }
 },
 "nbformat": 4,
 "nbformat_minor": 0
}
